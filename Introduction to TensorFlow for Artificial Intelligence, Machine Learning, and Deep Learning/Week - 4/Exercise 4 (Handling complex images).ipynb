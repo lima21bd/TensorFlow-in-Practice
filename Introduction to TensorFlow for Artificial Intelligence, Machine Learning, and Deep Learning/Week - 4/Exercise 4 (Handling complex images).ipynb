{
 "cells": [
  {
   "cell_type": "markdown",
   "metadata": {
    "colab_type": "text",
    "id": "UncprnB0ymAE"
   },
   "source": [
    "Below is code with a link to a happy or sad dataset which contains 80 images, 40 happy and 40 sad. \n",
    "Create a convolutional neural network that trains to 100% accuracy on these images,  which cancels training upon hitting training accuracy of >.999\n",
    "\n",
    "Hint -- it will work best with 3 convolutional layers."
   ]
  },
  {
   "cell_type": "code",
   "execution_count": 1,
   "metadata": {},
   "outputs": [],
   "source": [
    "import tensorflow as tf\n",
    "import os\n",
    "import zipfile\n",
    "from os import path, getcwd, chdir\n",
    "\n",
    "# DO NOT CHANGE THE LINE BELOW. If you are developing in a local\n",
    "# environment, then grab happy-or-sad.zip from the Coursera Jupyter Notebook\n",
    "# and place it inside a local folder and edit the path to that location\n",
    "path = f\"{getcwd()}/../tmp2/happy-or-sad.zip\"\n",
    "\n",
    "zip_ref = zipfile.ZipFile(path, 'r')\n",
    "zip_ref.extractall(\"/tmp/h-or-s\")\n",
    "zip_ref.close()"
   ]
  },
  {
   "cell_type": "code",
   "execution_count": 13,
   "metadata": {},
   "outputs": [],
   "source": [
    "# GRADED FUNCTION: train_happy_sad_model\n",
    "def train_happy_sad_model():\n",
    "    # Please write your code only where you are indicated.\n",
    "    # please do not remove # model fitting inline comments.\n",
    "\n",
    "    DESIRED_ACCURACY = 0.999\n",
    "\n",
    "    class myCallback(tf.keras.callbacks.Callback):\n",
    "        \n",
    "        def on_epoch_end(self, epoch, logs={}):\n",
    "            \n",
    "            if(logs.get('acc') > 0.999):\n",
    "                \n",
    "              print(\"\\nReached 100% accuracy so cancelling training!\")\n",
    "            \n",
    "              self.model.stop_training = True\n",
    "        \n",
    "         # Your Code\n",
    "        \n",
    "\n",
    "    callbacks = myCallback()\n",
    "    \n",
    "    # This Code Block should Define and Compile the Model. Please assume the images are 150 X 150 in your implementation.\n",
    "    model = tf.keras.models.Sequential([\n",
    "        # Your Code Here\n",
    "        \n",
    "        tf.keras.layers.Conv2D(32, (3,3), activation='relu', input_shape=(150, 150, 3)),\n",
    "        tf.keras.layers.MaxPooling2D(2, 2),\n",
    "        # The second convolution\n",
    "        tf.keras.layers.Conv2D(64, (3,3), activation='relu'),\n",
    "        tf.keras.layers.MaxPooling2D(2,2),\n",
    "        # The third convolution\n",
    "        tf.keras.layers.Conv2D(128, (3,3), activation='relu'),\n",
    "        tf.keras.layers.MaxPooling2D(2,2),\n",
    "        \n",
    "        tf.keras.layers.Flatten(),\n",
    "        # 512 neuron hidden layer\n",
    "        tf.keras.layers.Dense(512, activation='relu'),\n",
    "        # Only 1 output neuron. It will contain a value from 0-1 where 0 for 1 class ('horses') and 1 for the other ('humans')\n",
    "        tf.keras.layers.Dense(1, activation='sigmoid')\n",
    "    ])\n",
    "\n",
    "    from tensorflow.keras.optimizers import RMSprop\n",
    "\n",
    "    model.compile(loss='binary_crossentropy',\n",
    "                  optimizer=RMSprop(lr=0.001),\n",
    "                  metrics=['accuracy'])\n",
    "        \n",
    "\n",
    "    # This code block should create an instance of an ImageDataGenerator called train_datagen \n",
    "    # And a train_generator by calling train_datagen.flow_from_directory\n",
    "\n",
    "    from tensorflow.keras.preprocessing.image import ImageDataGenerator\n",
    "\n",
    "    train_datagen = ImageDataGenerator(rescale=1/255)\n",
    "\n",
    "    # Please use a target_size of 150 X 150.\n",
    "    train_generator = train_datagen.flow_from_directory(\n",
    "        \n",
    "        '/tmp/h-or-s',  # This is the source directory for training images\n",
    "        target_size=(150, 150),  # All images will be resized to 150x150\n",
    "        batch_size=80,\n",
    "        # Since we use binary_crossentropy loss, we need binary labels\n",
    "        class_mode='binary')\n",
    "    # Expected output: 'Found 80 images belonging to 2 classes'\n",
    "\n",
    "    # This code block should call model.fit_generator and train for\n",
    "    # a number of epochs.\n",
    "    # model fitting\n",
    "    history = model.fit_generator(\n",
    "          # Your Code Here\n",
    "          train_generator,\n",
    "          steps_per_epoch=8,  \n",
    "          epochs=15,\n",
    "          verbose=1)\n",
    "    # model fitting\n",
    "    return history.history['acc'][-1]"
   ]
  },
  {
   "cell_type": "code",
   "execution_count": 14,
   "metadata": {},
   "outputs": [
    {
     "name": "stdout",
     "output_type": "stream",
     "text": [
      "Found 80 images belonging to 2 classes.\n",
      "Epoch 1/15\n",
      "8/8 [==============================] - 5s 660ms/step - loss: 2.9381 - acc: 0.5000\n",
      "Epoch 2/15\n",
      "8/8 [==============================] - 3s 325ms/step - loss: 0.4159 - acc: 0.7781\n",
      "Epoch 3/15\n",
      "8/8 [==============================] - 3s 325ms/step - loss: 0.1747 - acc: 0.9516\n",
      "Epoch 4/15\n",
      "8/8 [==============================] - 2s 305ms/step - loss: 0.1223 - acc: 0.9688\n",
      "Epoch 5/15\n",
      "8/8 [==============================] - 3s 314ms/step - loss: 0.0557 - acc: 0.9781\n",
      "Epoch 6/15\n",
      "8/8 [==============================] - 3s 325ms/step - loss: 0.0402 - acc: 0.9812\n",
      "Epoch 7/15\n",
      "8/8 [==============================] - 3s 323ms/step - loss: 0.0077 - acc: 1.0000\n",
      "Epoch 8/15\n",
      "8/8 [==============================] - 3s 327ms/step - loss: 0.0034 - acc: 1.0000\n",
      "Epoch 9/15\n",
      "8/8 [==============================] - 3s 322ms/step - loss: 0.0018 - acc: 1.0000\n",
      "Epoch 10/15\n",
      "8/8 [==============================] - 2s 312ms/step - loss: 8.0075e-04 - acc: 1.0000\n",
      "Epoch 11/15\n",
      "8/8 [==============================] - 3s 337ms/step - loss: 4.1073e-04 - acc: 1.0000\n",
      "Epoch 12/15\n",
      "8/8 [==============================] - 3s 325ms/step - loss: 2.1965e-04 - acc: 1.0000\n",
      "Epoch 13/15\n",
      "8/8 [==============================] - 3s 325ms/step - loss: 1.1949e-04 - acc: 1.0000\n",
      "Epoch 14/15\n",
      "8/8 [==============================] - 3s 325ms/step - loss: 6.5847e-05 - acc: 1.0000\n",
      "Epoch 15/15\n",
      "8/8 [==============================] - 2s 312ms/step - loss: 3.6805e-05 - acc: 1.0000\n"
     ]
    },
    {
     "data": {
      "text/plain": [
       "1.0"
      ]
     },
     "execution_count": 14,
     "metadata": {},
     "output_type": "execute_result"
    }
   ],
   "source": [
    "# The Expected output: \"Reached 99.9% accuracy so cancelling training!\"\"\n",
    "train_happy_sad_model()"
   ]
  },
  {
   "cell_type": "code",
   "execution_count": 4,
   "metadata": {},
   "outputs": [],
   "source": [
    "# Now click the 'Submit Assignment' button above.\n",
    "# Once that is complete, please run the following two cells to save your work and close the notebook"
   ]
  },
  {
   "cell_type": "code",
   "execution_count": null,
   "metadata": {},
   "outputs": [],
   "source": [
    "%%javascript\n",
    "<!-- Save the notebook -->\n",
    "IPython.notebook.save_checkpoint();"
   ]
  },
  {
   "cell_type": "code",
   "execution_count": null,
   "metadata": {},
   "outputs": [],
   "source": [
    "%%javascript\n",
    "IPython.notebook.session.delete();\n",
    "window.onbeforeunload = null\n",
    "setTimeout(function() { window.close(); }, 1000);"
   ]
  }
 ],
 "metadata": {
  "coursera": {
   "course_slug": "introduction-tensorflow",
   "graded_item_id": "1kAlw",
   "launcher_item_id": "PNLYD"
  },
  "kernelspec": {
   "display_name": "Python 3",
   "language": "python",
   "name": "python3"
  },
  "language_info": {
   "codemirror_mode": {
    "name": "ipython",
    "version": 3
   },
   "file_extension": ".py",
   "mimetype": "text/x-python",
   "name": "python",
   "nbconvert_exporter": "python",
   "pygments_lexer": "ipython3",
   "version": "3.6.8"
  }
 },
 "nbformat": 4,
 "nbformat_minor": 1
}
